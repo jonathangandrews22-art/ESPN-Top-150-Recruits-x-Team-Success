{
 "cells": [
  {
   "cell_type": "code",
   "execution_count": 3,
   "id": "e9ea9649-ac81-476e-b96f-b103efbbafbf",
   "metadata": {},
   "outputs": [],
   "source": [
    "#PREP\n",
    "import seaborn as sbn\n",
    "import matplotlib.pyplot as plot\n",
    "import scipy.stats as stats\n",
    "import numpy as np\n",
    "import pandas as pd\n",
    "import math\n",
    "from scipy.stats import t"
   ]
  },
  {
   "cell_type": "code",
   "execution_count": 4,
   "id": "6d465f5d-e101-4fa0-b3e8-0a2650c59dc9",
   "metadata": {},
   "outputs": [
    {
     "name": "stdout",
     "output_type": "stream",
     "text": [
      "   Rank               Player  Class Pos     Hometown Home_State     Ht   Wt  \\\n",
      "0     3     Cameron Robinson   2014  OT  West Monroe         LA  6'5''  330   \n",
      "1     6        Da'Shawn Hand   2014  DE   Woodbridge         VA  6'4''  262   \n",
      "2     3          Eyabi Anoma   2018  DE    Baltimore         MD  6'6''  223   \n",
      "3     5  Patrick Surtain Jr.   2018  CB   Plantation         FL  6'2''  192   \n",
      "4     8           Tony Brown   2014  CB     Beaumont         TX  6'0''  196   \n",
      "\n",
      "   Stars  Grade   School  \n",
      "0      5     95  Alabama  \n",
      "1      5     94  Alabama  \n",
      "2      5     94  Alabama  \n",
      "3      5     93  Alabama  \n",
      "4      5     92  Alabama  \n"
     ]
    }
   ],
   "source": [
    "#MASTER RECUIT DATABASE (ALL COLUMNS SHOWN)\n",
    "recruit_db = pd.read_excel(r'C:\\Users\\jonat\\OneDrive\\Documents\\Stats\\CodeAcademy\\Projects\\ESPN 300 PROJECT\\ESPN 150 Combined.xlsx')\n",
    "print(recruit_db.head())"
   ]
  },
  {
   "cell_type": "markdown",
   "id": "2eef3ec5-03df-4321-9ed9-868062d02d1d",
   "metadata": {},
   "source": [
    "DATABASE BELOW SPANS 2011-2024. ET150, 5 STAR, 4 STAR COUNTS SPAN 2011-2024. THE REST OF THE COLUMNS COLLECT DATA FROM 2014-2024:\n",
    "1. TOTAL ESPN T150 RECRUIT COMMITS\n",
    "2. TOTAL 5 STAR COMMITS\n",
    "3. TOTAL 4 STAR COMMITS\n",
    "4. 80% OR BETTER WINNING SEASONS (CFP ERA\n",
    "5. CONF. CHIP APPEARANCES\n",
    "6. CONF. CHIP WINS\n",
    "7. CFP BERTHS\n",
    "8. CFP CHIP WINS"
   ]
  },
  {
   "cell_type": "code",
   "execution_count": 5,
   "id": "23a43607-27f1-43bb-a6b1-c2676a6aa498",
   "metadata": {},
   "outputs": [
    {
     "name": "stdout",
     "output_type": "stream",
     "text": [
      "       School  ET150_Count  5_Star_Count  4_Star_Count  \\\n",
      "0    Michigan           62             3            59   \n",
      "1         LSU          106            10            96   \n",
      "2     Clemson          101            13            88   \n",
      "3  Ohio State          127            20           107   \n",
      "4     Georgia          141            25           116   \n",
      "\n",
      "   80_Percent_ Win_Seasons_2014-2024  Conference_Chip_App_Since_CFP_Era  \\\n",
      "0                                  7                                  2   \n",
      "1                                  7                                  2   \n",
      "2                                 11                                  8   \n",
      "3                                 10                                  5   \n",
      "4                                  9                                  7   \n",
      "\n",
      "   Conference_Chip_Wins_CFP_Era  CFP_Berths  CFP_Chip_Wins  \n",
      "0                             2           3              1  \n",
      "1                             1           1              1  \n",
      "2                             8           7              2  \n",
      "3                             5           6              2  \n",
      "4                             3           4              2  \n"
     ]
    }
   ],
   "source": [
    "# MASTER SUCCESS DATABASE (ALL COLUMNS SHOWN)\n",
    "success_db = pd.read_excel(r'C:\\Users\\jonat\\OneDrive\\Documents\\Stats\\CodeAcademy\\Projects\\ESPN 300 PROJECT\\ESPN 150 School Dash.xlsx')\n",
    "print(success_db.head())"
   ]
  },
  {
   "cell_type": "markdown",
   "id": "52be1cdf-1939-4c0e-bb9d-776138096af8",
   "metadata": {},
   "source": [
    "### FORMULA BUILD:\n",
    "- WEIGHTED TALENT FACTOR (1.0 = 5 Star, 0.7 = 4 Star) / APPLIES TO 2011-2024 \n",
    "- WEIGHTED MATURATION FACTOR (WMF) (1.0 = Sr/Jr, 0.9 = So, 0.7 = Fr) // APPLIES TO 2011-2024 \n",
    "- WEIGHTED TALENT SCORE Current Year = YR-4(1.0 x WTF x Players/Class) + YR-3(1.0 x WTF x Players/Class)\n",
    "YR-2(0.9 x WTF x Players/Class) + YR-1(0.7 x WTF x Players/Class) // ONLY APPLIES TO 2014-2024 "
   ]
  },
  {
   "cell_type": "markdown",
   "id": "88544496-2eb1-42fa-ab2c-98178a7b2d70",
   "metadata": {},
   "source": [
    "-----------------------------------------------------\n",
    "### Section I) Weighted Talent Factor and Maturation"
   ]
  },
  {
   "cell_type": "code",
   "execution_count": 6,
   "id": "d77e8b28-fbd5-4b8b-a1d4-ad5801bff1f2",
   "metadata": {},
   "outputs": [
    {
     "name": "stdout",
     "output_type": "stream",
     "text": [
      "Stars  Class      School     4    5\n",
      "0       2011     Alabama  10.0  1.0\n",
      "1       2011    Arkansas   3.0  0.0\n",
      "2       2011      Auburn   7.0  1.0\n",
      "3       2011  California   5.0  0.0\n",
      "4       2011     Clemson   5.0  2.0\n"
     ]
    }
   ],
   "source": [
    "#1) Create dataframe/pivot for Team 5/4 star count per year\n",
    "yearly_team_talent_df = (recruit_db[['Class','School','Stars']].groupby(['Class','School','Stars']).size().reset_index(name='count').\\\n",
    "                         pivot(index = ['Class','School'], columns = 'Stars', values = 'count').\\\n",
    "                         fillna(0).reset_index())\n",
    "print(yearly_team_talent_df.head())"
   ]
  },
  {
   "cell_type": "code",
   "execution_count": 7,
   "id": "e83890ab-2570-47f9-8da3-666f4a1579d8",
   "metadata": {},
   "outputs": [
    {
     "name": "stdout",
     "output_type": "stream",
     "text": [
      "   Class      School     4    5  Talent Factor  Season  Year Diff  \\\n",
      "0   2011     Alabama  10.0  1.0           8.50    2014          3   \n",
      "1   2011    Arkansas   3.0  0.0           2.25    2014          3   \n",
      "2   2011      Auburn   7.0  1.0           6.25    2014          3   \n",
      "3   2011  California   5.0  0.0           3.75    2014          3   \n",
      "4   2011     Clemson   5.0  2.0           5.75    2014          3   \n",
      "\n",
      "   Maturation Weight  \n",
      "0                1.0  \n",
      "1                1.0  \n",
      "2                1.0  \n",
      "3                1.0  \n",
      "4                1.0  \n"
     ]
    }
   ],
   "source": [
    "#2) WEIGHTED TALENT FACTOR per YEAR per TEAM \n",
    "\n",
    " # a) W.Talent Factor per year\n",
    "five_star_weight = 1.0 \n",
    "four_star_weight = 0.75\n",
    "\n",
    "yearly_team_talent_df['Talent Factor'] = (\\\n",
    "yearly_team_talent_df[5] * five_star_weight +  #five star talent x five star weight\n",
    "yearly_team_talent_df[4] * four_star_weight)    #four star talent x four star weight\n",
    "\n",
    " # b) New DF, Columns:\n",
    "    # (Class, School, Talent Factor, Season, Mat weight) x 4 / next 3 years\n",
    "    # i) Season Add, do a cross join to get DF w season\n",
    "season_dic = {'Season': [2014, 2015, 2016, 2017, 2018, 2019, 2020, 2021, 2022, 2023, 2024]}\n",
    "season_df = pd.DataFrame(season_dic)\n",
    "yearly_team_talent_PERseason = pd.merge(yearly_team_talent_df, season_df, how = 'cross')\n",
    "\n",
    "    # ii) Filter for year + (0 -> 3) // Only include classes within 4 year window prior to season season 2014-2024\n",
    "final_df = yearly_team_talent_PERseason[(yearly_team_talent_PERseason['Season']-\\\n",
    "                                         yearly_team_talent_PERseason['Class']).between(0,3)]\n",
    "\n",
    " # c) Maturation Weight added\n",
    "    # i) Calculate year difference, to map maturation weights\n",
    "final_df = final_df.copy().reset_index(drop=True)\n",
    "final_df['Year Diff'] = final_df['Season'] - final_df['Class']\n",
    "\n",
    "    # ii) create weight dictionary, then map to Season/Class year difference ('Year Diff')\n",
    "weights = {0:0.7, 1:0.9, 2:1.0, 3:1.0} #maturation weights (0 = Freshman, 3 = Senior)\n",
    "final_df['Maturation Weight'] = final_df['Year Diff'].map(weights)\n",
    "\n",
    "print(final_df.head())"
   ]
  },
  {
   "cell_type": "markdown",
   "id": "e3f86eed-aab2-4ecf-94e2-de4cc44c7455",
   "metadata": {},
   "source": [
    "----------------------------------------\n",
    "### II) *CLASS* WEIGHTED TALENT SCORE (# OF PLAYERS x TALENT FACTOR x MATURATION WEIGHT)"
   ]
  },
  {
   "cell_type": "code",
   "execution_count": 8,
   "id": "5d68cee5-4856-4bb2-9ef2-2ca841956beb",
   "metadata": {},
   "outputs": [
    {
     "name": "stdout",
     "output_type": "stream",
     "text": [
      "   Class      School     4    5  Talent Factor  Season  Year Diff  \\\n",
      "0   2011     Alabama  10.0  1.0           8.50    2014          3   \n",
      "1   2011    Arkansas   3.0  0.0           2.25    2014          3   \n",
      "2   2011      Auburn   7.0  1.0           6.25    2014          3   \n",
      "3   2011  California   5.0  0.0           3.75    2014          3   \n",
      "4   2011     Clemson   5.0  2.0           5.75    2014          3   \n",
      "\n",
      "   Maturation Weight  Weighted Talent Score  \n",
      "0                1.0                  93.50  \n",
      "1                1.0                   6.75  \n",
      "2                1.0                  50.00  \n",
      "3                1.0                  18.75  \n",
      "4                1.0                  40.25  \n"
     ]
    }
   ],
   "source": [
    "#1) Make new column, multiply across rows\n",
    "final_df['Weighted Talent Score'] = (final_df[4] + final_df[5]) * (final_df['Talent Factor']) * (final_df['Maturation Weight'])  \n",
    "# 4 and 5 columns represent count of 4 and 5 star recruits x # Talent Factor x  Maturation Weight                             \n",
    "\n",
    "print(final_df.head())\n",
    "\n",
    "# final_df.to_excel('FINAL DATAFRAME.xlsx')"
   ]
  },
  {
   "cell_type": "markdown",
   "id": "28f56dc9-2f11-499e-bdc3-bcea66ecc6b4",
   "metadata": {},
   "source": [
    "------------------------------------\n",
    "### III) *SEASON* WEIGHTED TALENT SCORE (WTS) PER CFP YEAR, PER TEAM (SUM OF RECRUITING CLASS TALENT SCORES FROM PREVIOUS 4 CYCLES)\n",
    "EX.  2014 *Season* WTS = WTS of 2011 *Class* + WTS of 2011 *Class* + WTS of 2011 *Class* + WTS of 2011 *Class*"
   ]
  },
  {
   "cell_type": "code",
   "execution_count": 9,
   "id": "318dffc7-5c45-47d3-b3c8-3dcdc6933b16",
   "metadata": {},
   "outputs": [
    {
     "name": "stdout",
     "output_type": "stream",
     "text": [
      "        School  Season  Weighted Talent Score\n",
      "0      Alabama    2014                462.300\n",
      "1      Alabama    2015                535.825\n",
      "2      Alabama    2016                540.850\n",
      "3      Alabama    2017                528.875\n",
      "4      Alabama    2018                481.850\n",
      "..         ...     ...                    ...\n",
      "610  Wisconsin    2020                  7.425\n",
      "611  Wisconsin    2021                  9.600\n",
      "612  Wisconsin    2022                 10.950\n",
      "613  Wisconsin    2023                  8.175\n",
      "614  Wisconsin    2024                  2.025\n",
      "\n",
      "[615 rows x 3 columns]\n"
     ]
    }
   ],
   "source": [
    "#1) Group WTS by school, per season\n",
    "CFP_yearly_WTS_by_team = (final_df.groupby(['School','Season'])\\\n",
    "['Weighted Talent Score'].sum().reset_index())\n",
    "print(CFP_yearly_WTS_by_team)\n"
   ]
  },
  {
   "cell_type": "markdown",
   "id": "af28ffc6-263d-4310-b376-1c5cd01bc2a7",
   "metadata": {},
   "source": [
    "### IV) CORRELATION SETUP\n",
    "(Didn't have success metrics by year, only had frequency, so had to use  WTS average for analysis)"
   ]
  },
  {
   "cell_type": "code",
   "execution_count": 22,
   "id": "7eff2bc1-28aa-488b-8155-b0fb9bdfc53b",
   "metadata": {},
   "outputs": [
    {
     "name": "stdout",
     "output_type": "stream",
     "text": [
      "       School  Weighted Talent Score\n",
      "0     Alabama             145.119318\n",
      "1     Arizona               1.404545\n",
      "2  Arizona St               1.159091\n",
      "3    Arkansas               3.343548\n",
      "4      Auburn              23.602381\n"
     ]
    }
   ],
   "source": [
    "#1) ANOTHER...dataframe. For average Season WTS\n",
    "CFP_avg_WTS_by_team = (final_df.groupby(['School'])\\\n",
    "['Weighted Talent Score'].mean())\n",
    "avg_WTS = pd.DataFrame(CFP_avg_WTS_by_team).reset_index()\n",
    "print(avg_WTS.head())\n",
    "avg_WTS.to_excel('AVG WTS.xlsx')"
   ]
  },
  {
   "cell_type": "code",
   "execution_count": 23,
   "id": "105ee106-eafa-4112-a46c-51a30ee91e55",
   "metadata": {},
   "outputs": [
    {
     "name": "stdout",
     "output_type": "stream",
     "text": [
      "       School  Weighted Talent Score  ET150_Count  5_Star_Count  4_Star_Count  \\\n",
      "0     Alabama             145.119318        194.0          33.0         161.0   \n",
      "1     Arizona               1.404545          4.0           0.0           4.0   \n",
      "2  Arizona St               1.159091         11.0           0.0          11.0   \n",
      "3    Arkansas               3.343548         20.0           0.0          20.0   \n",
      "4      Auburn              23.602381         70.0           7.0          63.0   \n",
      "\n",
      "   80_Percent_ Win_Seasons_2014-2024  Conference_Chip_App_Since_CFP_Era  \\\n",
      "0                               11.0                                7.0   \n",
      "1                                2.0                                1.0   \n",
      "2                                2.0                                1.0   \n",
      "3                                1.0                                0.0   \n",
      "4                                2.0                                1.0   \n",
      "\n",
      "   Conference_Chip_Wins_CFP_Era  CFP_Berths  CFP_Chip_Wins  \n",
      "0                           7.0         8.0            3.0  \n",
      "1                           0.0         0.0            0.0  \n",
      "2                           1.0         1.0            0.0  \n",
      "3                           0.0         0.0            0.0  \n",
      "4                           0.0         0.0            0.0  \n"
     ]
    }
   ],
   "source": [
    "#2) Add to success DF\n",
    "correlation_df = pd.merge(avg_WTS, success_db, on = 'School', how = 'left')\n",
    "print(correlation_df.head())\n",
    "correlation_df.to_excel('coreelation.xlsx')"
   ]
  },
  {
   "cell_type": "markdown",
   "id": "8ba6a0b4-bc3d-4fd0-b60c-8d8fff792435",
   "metadata": {},
   "source": [
    "------------------------\n",
    "### V) CORRELATE AVG SEASON WTS TO SUCCESS METRICS"
   ]
  },
  {
   "cell_type": "code",
   "execution_count": 12,
   "id": "6d100710-2104-4463-8df1-31f129d64578",
   "metadata": {},
   "outputs": [
    {
     "name": "stdout",
     "output_type": "stream",
     "text": [
      "                                Stat  Correlation\n",
      "0  80_Percent_ Win_Seasons_2014-2024     0.596077\n",
      "1  Conference_Chip_App_Since_CFP_Era     0.557501\n",
      "2       Conference_Chip_Wins_CFP_Era     0.631791\n",
      "3                         CFP_Berths     0.803782\n",
      "4                      CFP_Chip_Wins     0.862081\n"
     ]
    }
   ],
   "source": [
    "#1) Drop all columns except WTS and success metrics\n",
    "correlation_df2 = correlation_df.copy()\n",
    "correlations = correlation_df2.drop(columns = ['Weighted Talent Score','School','ET150_Count','5_Star_Count','4_Star_Count'])\\\n",
    ".corrwith(correlation_df2['Weighted Talent Score'])\n",
    "# print(correlations)\n",
    "\n",
    "#2) Tidy\n",
    "correlations_results = correlations.copy()\n",
    "correlations_results_df = correlations_results.reset_index()\n",
    "correlations_results_df.columns = ['Stat','Correlation']\n",
    "print(correlations_results_df)"
   ]
  },
  {
   "cell_type": "markdown",
   "id": "a6fd3f15-115c-4e83-ad04-8e8334a05065",
   "metadata": {},
   "source": [
    "--------------------------------\n",
    "### VI) STASTICAL SIGNIGFICANCE"
   ]
  },
  {
   "cell_type": "code",
   "execution_count": 13,
   "id": "2f048e3d-4728-419f-871a-0164c6fc58a0",
   "metadata": {},
   "outputs": [
    {
     "name": "stdout",
     "output_type": "stream",
     "text": [
      "                                Stat  Correlation       P Value\n",
      "3                         CFP_Berths     0.803782  0.000000e+00\n",
      "4                      CFP_Chip_Wins     0.862081  0.000000e+00\n",
      "2       Conference_Chip_Wins_CFP_Era     0.631791  2.049229e-09\n",
      "0  80_Percent_ Win_Seasons_2014-2024     0.596077  2.637946e-08\n",
      "1  Conference_Chip_App_Since_CFP_Era     0.557501  3.001166e-07\n"
     ]
    }
   ],
   "source": [
    "#1) t test to see significance\n",
    "pvalues = []\n",
    "\n",
    "for corr in correlations_results_df['Correlation']:\n",
    "    r = corr                                                # correlation coefficients\n",
    "    n = 73                                                  # teams examined\n",
    "    tstat = r * math.sqrt((n - 2) / (1 - r ** 2))           # T-stat\n",
    "    dfree = n - 2                                           # degree of freedom\n",
    "    p = 2 * (1 - t.cdf(abs(tstat), dfree))                  # P value \n",
    "    pvalues.append(p)\n",
    "\n",
    "correlations_results_df['P Value'] = pvalues\n",
    "correlations_results_df = correlations_results_df.copy()\n",
    "sorted_cm_df = correlations_results_df.reset_index(drop = True)\n",
    "sorted_cm_df = correlations_results_df.sort_values(by = 'P Value', ascending = True)\n",
    "print(sorted_cm_df) #all stats below shown to be significant at 5% level"
   ]
  },
  {
   "cell_type": "markdown",
   "id": "94a92ca9-7988-4032-a84f-3002e29d39da",
   "metadata": {},
   "source": [
    "-------------------------------\n",
    "### VII) DATA VIZ"
   ]
  },
  {
   "cell_type": "code",
   "execution_count": 14,
   "id": "b2ea9d8d-deac-4bac-afbf-098511f8a09f",
   "metadata": {},
   "outputs": [
    {
     "data": {
      "image/png": "[encoded data removed]",
      "text/plain": [
       "<Figure size 1000x800 with 1 Axes>"
      ]
     },
     "metadata": {},
     "output_type": "display_data"
    }
   ],
   "source": [
    "#VII Data Viz \n",
    "\n",
    "#1) CORRELATION CHART\n",
    "plot.figure(figsize = (10,8))\n",
    "plot.barh(sorted_cm_df['Stat'], sorted_cm_df['Correlation'],height = 0.6, color = 'goldenrod',edgecolor='black' )\n",
    "plot.xticks(np.arange(0.0,1.0,0.1))\n",
    "plot.yticks(ticks = range(len(sorted_cm_df['Stat'])),\\\n",
    "             labels = ['CFP Berths','CFP Chip Wins',\n",
    "                       'Conf Chip Wins','80% Win Seasons',\n",
    "                       'Conf Chip Appearences'])\n",
    "plot.xlabel(\"Correlation to Recruiting Class Average 'Weighted Talent Score'\",labelpad=15)\n",
    "plot.ylabel('Statistical Category')\n",
    "plot.title('SUCCESS x ET150 RECRUITS', pad=15)\n",
    "plot.show()\n",
    "plot.close()"
   ]
  },
  {
   "cell_type": "code",
   "execution_count": 15,
   "id": "9e1ec525-d0b3-45d2-8ebd-b0cbaebe3842",
   "metadata": {},
   "outputs": [
    {
     "data": {
      "image/png": "[encoded data removed]",
      "text/plain": [
       "<Figure size 1000x800 with 1 Axes>"
      ]
     },
     "metadata": {},
     "output_type": "display_data"
    }
   ],
   "source": [
    "#VII Data Viz\n",
    "\n",
    "#2) WTS TOTALS (from 2014-2024)\n",
    "plot.figure(figsize = (10,8))\n",
    "plot.hist(correlation_df['Weighted Talent Score'], bins = 40, color = 'red')\n",
    "plot.xticks(np.arange(0.0,150,10))\n",
    "plot.xlabel('Average Season Weighted Talent Score')\n",
    "plot.yticks(np.arange(0.0,60,5))\n",
    "plot.ylabel('Frequency')\n",
    "plot.show()"
   ]
  },
  {
   "cell_type": "code",
   "execution_count": 21,
   "id": "7a62e792-f4cd-4a1a-911e-588a0f666b38",
   "metadata": {},
   "outputs": [
    {
     "data": {
      "image/png": "[encoded data removed]",
      "text/plain": [
       "<Figure size 1000x800 with 1 Axes>"
      ]
     },
     "metadata": {},
     "output_type": "display_data"
    }
   ],
   "source": [
    "#VII Data Viz\n",
    "\n",
    "#3) WTS Year over Year (from 2014-2024)\n",
    "plot.figure(figsize = (10,8))\n",
    "plot.hist(CFP_yearly_WTS_by_team['Weighted Talent Score'], bins = 40, color = 'red')\n",
    "# plot.xticks(np.arange(0.0,150,10))\n",
    "plot.xlabel('Average Weighted Talent Score Per Year')\n",
    "# plot.yticks(np.arange(0.0,400,50))\n",
    "plot.ylabel('Frequency')\n",
    "plot.show()\n",
    "plot.close()"
   ]
  },
  {
   "cell_type": "markdown",
   "id": "83642c58-7c51-43b7-8d75-4aa8ff5437ae",
   "metadata": {
    "jp-MarkdownHeadingCollapsed": true
   },
   "source": [
    "# BREAK // BREAK // BREAK // BREAK // EXTRA BELOW"
   ]
  },
  {
   "cell_type": "code",
   "execution_count": 17,
   "id": "2c826f73-c96a-44c5-bbc8-9ca954376ae5",
   "metadata": {},
   "outputs": [
    {
     "name": "stdout",
     "output_type": "stream",
     "text": [
      "           School  Grade\n",
      "0         Alabama  85.62\n",
      "1         Arizona  83.00\n",
      "2      Arizona St  84.55\n",
      "3        Arkansas  83.60\n",
      "4          Auburn  84.61\n",
      "..            ...    ...\n",
      "71       Virginia  83.67\n",
      "72  Virginia Tech  84.22\n",
      "73     W Virginia  82.57\n",
      "74     Washington  84.43\n",
      "75      Wisconsin  84.60\n",
      "\n",
      "[76 rows x 2 columns]\n"
     ]
    }
   ],
   "source": [
    "#AVERAGE GRADE/RECRUIT (RECRUIT DATABASE)\n",
    "average_grade = recruit_db.groupby('School').Grade.mean().reset_index()\n",
    "print(round(average_grade,2))"
   ]
  },
  {
   "cell_type": "code",
   "execution_count": 18,
   "id": "8e717c11-7ea0-4170-a027-0e663acf8fa2",
   "metadata": {},
   "outputs": [
    {
     "name": "stdout",
     "output_type": "stream",
     "text": [
      "           School Grade\n",
      "0         Alabama    84\n",
      "1         Arizona    83\n",
      "2      Arizona St    84\n",
      "3        Arkansas    83\n",
      "4          Auburn    84\n",
      "..            ...   ...\n",
      "71       Virginia    80\n",
      "72  Virginia Tech    84\n",
      "73     W Virginia    83\n",
      "74     Washington    84\n",
      "75      Wisconsin    83\n",
      "\n",
      "[76 rows x 2 columns]\n"
     ]
    }
   ],
   "source": [
    "#MODE GRADE PER TEAM (RECRUIT DATABASE)\n",
    "mode_grade = recruit_db.groupby('School').Grade.agg(pd.Series.mode).reset_index()\n",
    "print(round(mode_grade,2))"
   ]
  },
  {
   "cell_type": "code",
   "execution_count": 19,
   "id": "d6381f71-dd34-4de6-a7dd-aaaf67c9f2e8",
   "metadata": {},
   "outputs": [
    {
     "name": "stdout",
     "output_type": "stream",
     "text": [
      "           School  Grade\n",
      "0         Alabama   85.0\n",
      "1         Arizona   83.0\n",
      "2      Arizona St   84.0\n",
      "3        Arkansas   83.5\n",
      "4          Auburn   84.0\n",
      "..            ...    ...\n",
      "71       Virginia   82.5\n",
      "72  Virginia Tech   84.0\n",
      "73     W Virginia   83.0\n",
      "74     Washington   84.0\n",
      "75      Wisconsin   83.5\n",
      "\n",
      "[76 rows x 2 columns]\n"
     ]
    }
   ],
   "source": [
    "#MEDIAN GRADE PER TEAM (RECRUIT DATABASE)\n",
    "median_grade = recruit_db.groupby('School').Grade.median().reset_index()\n",
    "print(round(median_grade,2))"
   ]
  },
  {
   "cell_type": "markdown",
   "id": "9b2351e3-f28e-4b8f-bdad-13abb2336834",
   "metadata": {},
   "source": [
    "# COME BACK AND FIX LATER BELOW"
   ]
  },
  {
   "cell_type": "code",
   "execution_count": 20,
   "id": "4f7abafd-26bf-46e2-b6fe-a12bea2c2106",
   "metadata": {},
   "outputs": [],
   "source": [
    "# #CORRELATE MEAN GRADE TO SUCCESS\n",
    "# success_db_v2 = success_db[['80_Percent_ Win_Seasons_2014-2024', 'Conference_Chip_App_Since_CFP_Era' ,'Conference_Chip_Wins_CFP_Era', 'CFP_Berths', 'CFP_Chip_Wins']]\n",
    "# outcome = average_grade.Grade\n",
    "\n",
    "# for col in success_db_v2:\n",
    "#     r = success_db_v2[col].corr(outcome)\n",
    "#     print(f\"{col} vs mean:\", round(r,4))\n",
    "\n",
    "# print(\"\\n\")\n",
    "\n",
    "# #CORRELATE MODE GRADE TO SUCCESS\n",
    "# outcome = mode_grade.Grade\n",
    "\n",
    "# for col in success_db_v2:\n",
    "#     r = success_db_v2[col].corr(outcome)\n",
    "#     print(f\"{col} vs mode:\", round(r,4))\n",
    "\n",
    "# print(\"\\n\")\n",
    "\n",
    "# #CORRELATE MEDIAN GRADE TO SUCCESS\n",
    "# outcome = median_grade.Grade\n",
    "\n",
    "# for col in success_db_v2:\n",
    "#     r = success_db_v2[col].corr(outcome)\n",
    "#     print(f\"{col} vs median:\", round(r,4))"
   ]
  },
  {
   "cell_type": "code",
   "execution_count": null,
   "id": "74c5f3a4-157c-44f9-9073-7d24cf2eae14",
   "metadata": {},
   "outputs": [],
   "source": []
  }
 ],
 "metadata": {
  "kernelspec": {
   "display_name": "Python 3 (ipykernel)",
   "language": "python",
   "name": "python3"
  },
  "language_info": {
   "codemirror_mode": {
    "name": "ipython",
    "version": 3
   },
   "file_extension": ".py",
   "mimetype": "text/x-python",
   "name": "python",
   "nbconvert_exporter": "python",
   "pygments_lexer": "ipython3",
   "version": "3.13.5"
  }
 },
 "nbformat": 4,
 "nbformat_minor": 5
}
